{
 "cells": [
  {
   "cell_type": "code",
   "execution_count": 1,
   "metadata": {},
   "outputs": [],
   "source": [
    "# https://www.kaggle.com/c/titanic/data\n",
    "\n",
    "#!kaggle competitions download -c titanic"
   ]
  },
  {
   "cell_type": "code",
   "execution_count": 2,
   "metadata": {},
   "outputs": [
    {
     "name": "stderr",
     "output_type": "stream",
     "text": [
      "/Users/mcmenamin/.virtualenvs/py3env/lib/python3.5/site-packages/h5py/__init__.py:36: FutureWarning: Conversion of the second argument of issubdtype from `float` to `np.floating` is deprecated. In future, it will be treated as `np.float64 == np.dtype(float).type`.\n",
      "  from ._conv import register_converters as _register_converters\n"
     ]
    }
   ],
   "source": [
    "import os\n",
    "import math\n",
    "import logging\n",
    "\n",
    "import numpy as np\n",
    "import pandas as pd\n",
    "\n",
    "from model_wrangler.model.losses import accuracy\n",
    "\n",
    "from model_wrangler.model_wrangler import ModelWrangler\n",
    "from model_wrangler.model_wrangler import LOGGER as MW_LOGGER\n",
    "from model_wrangler.dataset_managers import BalancedDatasetManager\n",
    "from model_wrangler.dataset_managers import LOGGER as DM_LOGGER\n",
    "\n",
    "from model_wrangler.model.corral.debiased_classifier import DebiasedClassifier"
   ]
  },
  {
   "cell_type": "code",
   "execution_count": 3,
   "metadata": {},
   "outputs": [],
   "source": [
    "DM_LOGGER.setLevel(logging.WARN)\n",
    "MW_LOGGER.setLevel(logging.WARN)"
   ]
  },
  {
   "cell_type": "code",
   "execution_count": 4,
   "metadata": {},
   "outputs": [],
   "source": [
    "DATA_DIR = os.path.expanduser(\n",
    "    os.path.join('~', '.kaggle', 'competitions', 'titanic')\n",
    ")\n",
    "\n",
    "_df = pd.read_csv(os.path.join(DATA_DIR, 'train.csv'))\n",
    "_df.Age = _df.Age.fillna(value=_df.Age.dropna().mean())\n",
    "df_data_train = _df.loc[(_df.PassengerId % 5) != 0]\n",
    "df_data_holdout = _df.loc[(_df.PassengerId % 5) == 0]"
   ]
  },
  {
   "cell_type": "code",
   "execution_count": 5,
   "metadata": {},
   "outputs": [],
   "source": [
    "feature_names = [\n",
    "    'is_female',\n",
    "    'age',\n",
    "    'is_class1',\n",
    "    'is_class2',\n",
    "#    'is_class3',\n",
    "#    'fare',\n",
    "]\n",
    "\n",
    "def df_to_numeric(df_in):\n",
    "    \"\"\"Function takes the dataframe of titanic data and\n",
    "    turns it into a numeric array of engineered features\n",
    "    \"\"\"\n",
    "    \n",
    "    feats = np.array([\n",
    "        (df_in.Sex == 'female').astype(float).tolist(),\n",
    "        df_in.Age.astype(float).tolist(),\n",
    "        (df_in.Pclass == 1).astype(float).tolist(),\n",
    "        (df_in.Pclass == 2).astype(float).tolist(),\n",
    "#        (df_in.Pclass == 3).astype(float).tolist(),\n",
    "#        df_in.Fare.astype(float).tolist(),\n",
    "    ]).T\n",
    "    \n",
    "    dv = df_in['Survived'].astype(float).tolist()\n",
    "    dv = np.array(dv).reshape(-1, 1)\n",
    "\n",
    "    group_idx = (df_in.Sex == 'female').astype(int).tolist()\n",
    "    group_idx = np.array(group_idx).reshape(-1, 1)\n",
    "\n",
    "    return [feats], [dv], [group_idx]"
   ]
  },
  {
   "cell_type": "code",
   "execution_count": 9,
   "metadata": {},
   "outputs": [],
   "source": [
    "hidden_layer_config = [\n",
    "    {\n",
    "        'num_units': 12,\n",
    "        'bias': True,\n",
    "        'activation': 'tanh',\n",
    "        'activity_reg': {'l1': 0.1},\n",
    "        'dropout_rate': 0.0,\n",
    "    },\n",
    "]\n",
    "\n",
    "embed_config = {\n",
    "    'num_units': 4,\n",
    "    'bias': True,\n",
    "}\n",
    "\n",
    "tb_scalars = {\n",
    "    'scalars': ['embed_l1', 'embed_mean']\n",
    "}\n",
    "\n",
    "MODEL_PARAMS_BASE = {\n",
    "    'name': 'titanic_example',\n",
    "    'path': './titanic_example',\n",
    "    'graph': {\n",
    "        'in_sizes': [len(feature_names), 1],\n",
    "        'hidden_params': hidden_layer_config,\n",
    "        'embed_params': embed_config,\n",
    "        'out_sizes': [1], \n",
    "        'debias_weight': None\n",
    "    },\n",
    "    'tensorboard': tb_scalars\n",
    "}\n",
    "\n",
    "\n",
    "MODEL_PARAMS_DEBIAS = {\n",
    "    'name': 'titanic_debiased_example',\n",
    "    'path': './titanic_debiased_example',\n",
    "    'graph': {\n",
    "        'in_sizes': [len(feature_names), 1],\n",
    "        'hidden_params': hidden_layer_config,\n",
    "        'embed_params': embed_config,\n",
    "        'out_sizes': [1],\n",
    "        'debias_weight': 1e-6\n",
    "    },\n",
    "    'tensorboard': tb_scalars\n",
    "}\n",
    "\n",
    "TRAIN_PARAMS = {\n",
    "    'num_epochs': 50,\n",
    "    'batch_size': 32\n",
    "}"
   ]
  },
  {
   "cell_type": "code",
   "execution_count": 10,
   "metadata": {},
   "outputs": [],
   "source": [
    "def get_data_managers(X_tr, Y_tr, X_ho, Y_ho, pos_classes=[[1.0]]):\n",
    "    data_train = BalancedDatasetManager(X_tr, Y_tr)\n",
    "    data_holdout = BalancedDatasetManager(X_ho, Y_ho)\n",
    "\n",
    "    data_train.set_positive_class([pos_classes])\n",
    "    data_holdout.set_positive_class([pos_classes])\n",
    "    return data_train, data_holdout\n",
    "\n",
    "def train_model(model_class, model_params, train_params, X_tr, Y_tr, X_ho, Y_ho):\n",
    "\n",
    "    dm_train, dm_holdout = get_data_managers(X_tr, Y_tr, X_ho, Y_ho)\n",
    "\n",
    "    model = ModelWrangler(model_class, model_params)\n",
    "    model.add_train_params(train_params)\n",
    "    model.add_data(dm_train, dm_holdout)\n",
    "\n",
    "    pre_accy = 100 * model.score(X_ho, Y_ho, score_func=accuracy)\n",
    "    pre_loss = model.score(X_ho, Y_ho)\n",
    "\n",
    "    model.train()\n",
    "\n",
    "    post_accy = 100 * model.score(X_ho, Y_ho, score_func=accuracy)\n",
    "    post_loss =  model.score(X_ho, Y_ho)\n",
    "    \n",
    "    print(\"Pre-training\")\n",
    "    print(\"\\tacc'y: {:.1f}%\".format(pre_accy))\n",
    "    print(\"\\tloss: {:.4f}\".format(pre_loss))\n",
    "\n",
    "    print(\"Post-training\")\n",
    "    print(\"\\tacc'y: {:.1f}%\".format(post_accy))\n",
    "    print(\"\\tloss: {:.4f}\".format(post_loss))\n",
    "\n",
    "    return model"
   ]
  },
  {
   "cell_type": "code",
   "execution_count": 11,
   "metadata": {
    "scrolled": false
   },
   "outputs": [
    {
     "name": "stdout",
     "output_type": "stream",
     "text": [
      "Baseline model\n",
      "Pre-training\n",
      "\tacc'y: 37.6%\n",
      "\tloss: 1.0332\n",
      "Post-training\n",
      "\tacc'y: 37.6%\n",
      "\tloss: 1.5882\n",
      "\n",
      "\"De-Biased\" model\n",
      "Pre-training\n",
      "\tacc'y: 38.8%\n",
      "\tloss: 0.7728\n",
      "Post-training\n",
      "\tacc'y: 60.7%\n",
      "\tloss: 0.6905\n"
     ]
    }
   ],
   "source": [
    "# Turn dataframe into numpy numerics\n",
    "train_X, train_Y, train_groups = df_to_numeric(df_data_train)\n",
    "ho_X, ho_Y, ho_groups = df_to_numeric(df_data_holdout)\n",
    "\n",
    "# Set and train models\n",
    "print('Baseline model')\n",
    "orig_model = train_model(\n",
    "    DebiasedClassifier, MODEL_PARAMS_BASE, TRAIN_PARAMS,\n",
    "    train_X + train_groups, train_Y,\n",
    "    ho_X + ho_groups, ho_Y\n",
    ")\n",
    "\n",
    "print('\\n\"De-Biased\" model')\n",
    "debias_model = train_model(\n",
    "    DebiasedClassifier, MODEL_PARAMS_DEBIAS, TRAIN_PARAMS,\n",
    "    train_X + train_groups, train_Y,\n",
    "    ho_X + ho_groups, ho_Y\n",
    ")"
   ]
  },
  {
   "cell_type": "code",
   "execution_count": 13,
   "metadata": {},
   "outputs": [
    {
     "data": {
      "text/html": [
       "<div>\n",
       "<style scoped>\n",
       "    .dataframe tbody tr th:only-of-type {\n",
       "        vertical-align: middle;\n",
       "    }\n",
       "\n",
       "    .dataframe tbody tr th {\n",
       "        vertical-align: top;\n",
       "    }\n",
       "\n",
       "    .dataframe thead th {\n",
       "        text-align: right;\n",
       "    }\n",
       "</style>\n",
       "<table border=\"1\" class=\"dataframe\">\n",
       "  <thead>\n",
       "    <tr style=\"text-align: right;\">\n",
       "      <th></th>\n",
       "      <th>biased importance</th>\n",
       "      <th>debiased importance</th>\n",
       "    </tr>\n",
       "    <tr>\n",
       "      <th>feature</th>\n",
       "      <th></th>\n",
       "      <th></th>\n",
       "    </tr>\n",
       "  </thead>\n",
       "  <tbody>\n",
       "    <tr>\n",
       "      <th>is_female</th>\n",
       "      <td>1.770287</td>\n",
       "      <td>1.585143</td>\n",
       "    </tr>\n",
       "    <tr>\n",
       "      <th>age</th>\n",
       "      <td>0.103247</td>\n",
       "      <td>0.281120</td>\n",
       "    </tr>\n",
       "    <tr>\n",
       "      <th>is_class1</th>\n",
       "      <td>0.502262</td>\n",
       "      <td>1.143448</td>\n",
       "    </tr>\n",
       "    <tr>\n",
       "      <th>is_class2</th>\n",
       "      <td>1.624204</td>\n",
       "      <td>0.990289</td>\n",
       "    </tr>\n",
       "  </tbody>\n",
       "</table>\n",
       "</div>"
      ],
      "text/plain": [
       "           biased importance  debiased importance\n",
       "feature                                          \n",
       "is_female           1.770287             1.585143\n",
       "age                 0.103247             0.281120\n",
       "is_class1           0.502262             1.143448\n",
       "is_class2           1.624204             0.990289"
      ]
     },
     "execution_count": 13,
     "metadata": {},
     "output_type": "execute_result"
    }
   ],
   "source": [
    "def get_feature_importances(model, X, Y):\n",
    "    feat_imp = model.feature_importance(X, Y, input_idxs=[0]).ravel()\n",
    "    feat_imp /= feat_imp.mean()\n",
    "    return feat_imp\n",
    "\n",
    "df_feat_imp = pd.DataFrame({\n",
    "    'feature': feature_names,\n",
    "    'biased importance': get_feature_importances(orig_model, ho_X + ho_groups, ho_Y),\n",
    "    'debiased importance': get_feature_importances(debias_model, ho_X + ho_groups, ho_Y)\n",
    "}).set_index('feature')\n",
    "\n",
    "df_feat_imp"
   ]
  },
  {
   "cell_type": "code",
   "execution_count": 35,
   "metadata": {},
   "outputs": [],
   "source": [
    "def sigmoid(x):\n",
    "  return 1 / (1 + math.exp(-x))\n",
    "\n",
    "def get_error_summary(model, inputs, outputs, groups):\n",
    "\n",
    "    preds = model.get_from_model(\n",
    "        'preact_0/BiasAdd',\n",
    "        model.make_data_dict(inputs, outputs, is_training=False)\n",
    "    )\n",
    "    \n",
    "    bias = (outputs[0] - sigmoid(preds[0])).ravel()\n",
    "    error = bias ** 2\n",
    "\n",
    "    df_err = pd.DataFrame({\n",
    "        'err': error,\n",
    "        'bias': bias,\n",
    "        'groups': groups[0].ravel()\n",
    "    })\n",
    "    \n",
    "    return df_err.groupby('groups').mean()"
   ]
  },
  {
   "cell_type": "code",
   "execution_count": 36,
   "metadata": {},
   "outputs": [
    {
     "name": "stdout",
     "output_type": "stream",
     "text": [
      "Original bias-spread across groups: 0.32\n",
      "De-biased bias-spread across groups: 0.32\n"
     ]
    }
   ],
   "source": [
    "orig_errors_by_group = get_error_summary(\n",
    "    orig_model,\n",
    "    ho_X + ho_groups,\n",
    "    ho_Y,\n",
    "    ho_groups\n",
    ")\n",
    "\n",
    "debiased_errors_by_group = get_error_summary(\n",
    "    debias_model,\n",
    "    ho_X + ho_groups,\n",
    "    ho_Y,\n",
    "    ho_groups\n",
    ")\n",
    "\n",
    "print('Original bias-spread across groups: {:.2f}'.format(orig_errors_by_group['bias'].std()))\n",
    "print('De-biased bias-spread across groups: {:.2f}'.format(debiased_errors_by_group['bias'].std()))"
   ]
  },
  {
   "cell_type": "code",
   "execution_count": 37,
   "metadata": {},
   "outputs": [
    {
     "name": "stdout",
     "output_type": "stream",
     "text": [
      "Original bias-spread across groups: 0.41\n",
      "De-biased bias-spread across groups: 0.41\n"
     ]
    }
   ],
   "source": [
    "orig_errors_by_group = get_error_summary(\n",
    "    orig_model,\n",
    "    train_X + train_groups,\n",
    "    train_Y,\n",
    "    train_groups\n",
    ")\n",
    "\n",
    "debiased_errors_by_group = get_error_summary(\n",
    "    debias_model,\n",
    "    train_X + train_groups,\n",
    "    train_Y,\n",
    "    train_groups\n",
    ")\n",
    "\n",
    "print('Original bias-spread across groups: {:.2f}'.format(orig_errors_by_group['bias'].std()))\n",
    "print('De-biased bias-spread across groups: {:.2f}'.format(debiased_errors_by_group['bias'].std()))"
   ]
  },
  {
   "cell_type": "code",
   "execution_count": 18,
   "metadata": {},
   "outputs": [
    {
     "data": {
      "text/html": [
       "<div>\n",
       "<style scoped>\n",
       "    .dataframe tbody tr th:only-of-type {\n",
       "        vertical-align: middle;\n",
       "    }\n",
       "\n",
       "    .dataframe tbody tr th {\n",
       "        vertical-align: top;\n",
       "    }\n",
       "\n",
       "    .dataframe thead th {\n",
       "        text-align: right;\n",
       "    }\n",
       "</style>\n",
       "<table border=\"1\" class=\"dataframe\">\n",
       "  <thead>\n",
       "    <tr style=\"text-align: right;\">\n",
       "      <th></th>\n",
       "      <th>bias</th>\n",
       "      <th>err</th>\n",
       "    </tr>\n",
       "    <tr>\n",
       "      <th>groups</th>\n",
       "      <th></th>\n",
       "      <th></th>\n",
       "    </tr>\n",
       "  </thead>\n",
       "  <tbody>\n",
       "    <tr>\n",
       "      <th>0</th>\n",
       "      <td>-0.284230</td>\n",
       "      <td>0.229048</td>\n",
       "    </tr>\n",
       "    <tr>\n",
       "      <th>1</th>\n",
       "      <td>0.293772</td>\n",
       "      <td>0.269202</td>\n",
       "    </tr>\n",
       "  </tbody>\n",
       "</table>\n",
       "</div>"
      ],
      "text/plain": [
       "            bias       err\n",
       "groups                    \n",
       "0      -0.284230  0.229048\n",
       "1       0.293772  0.269202"
      ]
     },
     "execution_count": 18,
     "metadata": {},
     "output_type": "execute_result"
    }
   ],
   "source": [
    "orig_errors_by_group"
   ]
  },
  {
   "cell_type": "code",
   "execution_count": 19,
   "metadata": {},
   "outputs": [
    {
     "data": {
      "text/html": [
       "<div>\n",
       "<style scoped>\n",
       "    .dataframe tbody tr th:only-of-type {\n",
       "        vertical-align: middle;\n",
       "    }\n",
       "\n",
       "    .dataframe tbody tr th {\n",
       "        vertical-align: top;\n",
       "    }\n",
       "\n",
       "    .dataframe thead th {\n",
       "        text-align: right;\n",
       "    }\n",
       "</style>\n",
       "<table border=\"1\" class=\"dataframe\">\n",
       "  <thead>\n",
       "    <tr style=\"text-align: right;\">\n",
       "      <th></th>\n",
       "      <th>bias</th>\n",
       "      <th>err</th>\n",
       "    </tr>\n",
       "    <tr>\n",
       "      <th>groups</th>\n",
       "      <th></th>\n",
       "      <th></th>\n",
       "    </tr>\n",
       "  </thead>\n",
       "  <tbody>\n",
       "    <tr>\n",
       "      <th>0</th>\n",
       "      <td>-0.281269</td>\n",
       "      <td>0.227373</td>\n",
       "    </tr>\n",
       "    <tr>\n",
       "      <th>1</th>\n",
       "      <td>0.296732</td>\n",
       "      <td>0.270950</td>\n",
       "    </tr>\n",
       "  </tbody>\n",
       "</table>\n",
       "</div>"
      ],
      "text/plain": [
       "            bias       err\n",
       "groups                    \n",
       "0      -0.281269  0.227373\n",
       "1       0.296732  0.270950"
      ]
     },
     "execution_count": 19,
     "metadata": {},
     "output_type": "execute_result"
    }
   ],
   "source": [
    "debiased_errors_by_group"
   ]
  },
  {
   "cell_type": "code",
   "execution_count": null,
   "metadata": {},
   "outputs": [],
   "source": []
  }
 ],
 "metadata": {
  "kernelspec": {
   "display_name": "Python 3",
   "language": "python",
   "name": "python3"
  },
  "language_info": {
   "codemirror_mode": {
    "name": "ipython",
    "version": 3
   },
   "file_extension": ".py",
   "mimetype": "text/x-python",
   "name": "python",
   "nbconvert_exporter": "python",
   "pygments_lexer": "ipython3",
   "version": "3.5.1"
  }
 },
 "nbformat": 4,
 "nbformat_minor": 2
}
